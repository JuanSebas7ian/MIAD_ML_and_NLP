{
 "cells": [
  {
   "cell_type": "markdown",
   "metadata": {},
   "source": [
    "![image info](https://raw.githubusercontent.com/albahnsen/MIAD_ML_and_NLP/main/images/banner_1.png)"
   ]
  },
  {
   "cell_type": "markdown",
   "metadata": {},
   "source": [
    "# Taller: Construcción e implementación de modelos Bagging, Random Forest y XGBoost\n",
    "\n",
    "En este taller podrán poner en práctica sus conocimientos sobre la construcción e implementación de modelos de Bagging, Random Forest y XGBoost. El taller está constituido por 8 puntos, en los cuales deberan seguir las intrucciones de cada numeral para su desarrollo."
   ]
  },
  {
   "cell_type": "markdown",
   "metadata": {},
   "source": [
    "## Datos predicción precio de automóviles\n",
    "\n",
    "En este taller se usará el conjunto de datos de Car Listings de Kaggle donde cada observación representa el precio de un automóvil teniendo en cuenta distintas variables como año, marca, modelo, entre otras. El objetivo es predecir si el precio del automóvil es alto o no. Para más detalles puede visitar el siguiente enlace: [datos](https://www.kaggle.com/jpayne/852k-used-car-listings)."
   ]
  },
  {
   "cell_type": "code",
   "execution_count": 1,
   "metadata": {},
   "outputs": [],
   "source": [
    "import warnings\n",
    "warnings.filterwarnings('ignore')"
   ]
  },
  {
   "cell_type": "code",
   "execution_count": 2,
   "metadata": {},
   "outputs": [
    {
     "data": {
      "text/html": [
       "<div>\n",
       "<style scoped>\n",
       "    .dataframe tbody tr th:only-of-type {\n",
       "        vertical-align: middle;\n",
       "    }\n",
       "\n",
       "    .dataframe tbody tr th {\n",
       "        vertical-align: top;\n",
       "    }\n",
       "\n",
       "    .dataframe thead th {\n",
       "        text-align: right;\n",
       "    }\n",
       "</style>\n",
       "<table border=\"1\" class=\"dataframe\">\n",
       "  <thead>\n",
       "    <tr style=\"text-align: right;\">\n",
       "      <th></th>\n",
       "      <th>Year</th>\n",
       "      <th>Mileage</th>\n",
       "      <th>M_Camry</th>\n",
       "      <th>M_Camry4dr</th>\n",
       "      <th>M_CamryBase</th>\n",
       "      <th>M_CamryL</th>\n",
       "      <th>M_CamryLE</th>\n",
       "      <th>M_CamrySE</th>\n",
       "      <th>M_CamryXLE</th>\n",
       "      <th>HighPrice</th>\n",
       "    </tr>\n",
       "  </thead>\n",
       "  <tbody>\n",
       "    <tr>\n",
       "      <th>7</th>\n",
       "      <td>2014</td>\n",
       "      <td>6480</td>\n",
       "      <td>0</td>\n",
       "      <td>0</td>\n",
       "      <td>0</td>\n",
       "      <td>1</td>\n",
       "      <td>0</td>\n",
       "      <td>0</td>\n",
       "      <td>0</td>\n",
       "      <td>1</td>\n",
       "    </tr>\n",
       "    <tr>\n",
       "      <th>11</th>\n",
       "      <td>2014</td>\n",
       "      <td>39972</td>\n",
       "      <td>0</td>\n",
       "      <td>0</td>\n",
       "      <td>0</td>\n",
       "      <td>0</td>\n",
       "      <td>1</td>\n",
       "      <td>0</td>\n",
       "      <td>0</td>\n",
       "      <td>0</td>\n",
       "    </tr>\n",
       "    <tr>\n",
       "      <th>167</th>\n",
       "      <td>2016</td>\n",
       "      <td>18989</td>\n",
       "      <td>0</td>\n",
       "      <td>0</td>\n",
       "      <td>0</td>\n",
       "      <td>0</td>\n",
       "      <td>0</td>\n",
       "      <td>1</td>\n",
       "      <td>0</td>\n",
       "      <td>1</td>\n",
       "    </tr>\n",
       "    <tr>\n",
       "      <th>225</th>\n",
       "      <td>2014</td>\n",
       "      <td>51330</td>\n",
       "      <td>0</td>\n",
       "      <td>0</td>\n",
       "      <td>0</td>\n",
       "      <td>1</td>\n",
       "      <td>0</td>\n",
       "      <td>0</td>\n",
       "      <td>0</td>\n",
       "      <td>0</td>\n",
       "    </tr>\n",
       "    <tr>\n",
       "      <th>270</th>\n",
       "      <td>2007</td>\n",
       "      <td>116065</td>\n",
       "      <td>0</td>\n",
       "      <td>1</td>\n",
       "      <td>0</td>\n",
       "      <td>0</td>\n",
       "      <td>0</td>\n",
       "      <td>0</td>\n",
       "      <td>0</td>\n",
       "      <td>0</td>\n",
       "    </tr>\n",
       "  </tbody>\n",
       "</table>\n",
       "</div>"
      ],
      "text/plain": [
       "     Year  Mileage  M_Camry  M_Camry4dr  M_CamryBase  M_CamryL  M_CamryLE  \\\n",
       "7    2014     6480        0           0            0         1          0   \n",
       "11   2014    39972        0           0            0         0          1   \n",
       "167  2016    18989        0           0            0         0          0   \n",
       "225  2014    51330        0           0            0         1          0   \n",
       "270  2007   116065        0           1            0         0          0   \n",
       "\n",
       "     M_CamrySE  M_CamryXLE  HighPrice  \n",
       "7            0           0          1  \n",
       "11           0           0          0  \n",
       "167          1           0          1  \n",
       "225          0           0          0  \n",
       "270          0           0          0  "
      ]
     },
     "execution_count": 2,
     "metadata": {},
     "output_type": "execute_result"
    }
   ],
   "source": [
    "# Importación de librerías\n",
    "%matplotlib inline\n",
    "import pandas as pd\n",
    "import numpy as np\n",
    "import matplotlib.pyplot as plt\n",
    "from sklearn.tree import DecisionTreeClassifier\n",
    "from sklearn.ensemble import BaggingClassifier\n",
    "from sklearn.ensemble import RandomForestClassifier\n",
    "from sklearn.model_selection import cross_val_score\n",
    "from xgboost import XGBClassifier\n",
    "\n",
    "\n",
    "from sklearn import metrics\n",
    "from sklearn.metrics import accuracy_score\n",
    "from sklearn.metrics import precision_score\n",
    "from sklearn.metrics import confusion_matrix\n",
    "\n",
    "# Lectura de la información de archivo .csv\n",
    "data = pd.read_csv('https://raw.githubusercontent.com/albahnsen/MIAD_ML_and_NLP/main/datasets/dataTrain_carListings.zip')\n",
    "\n",
    "# Preprocesamiento de datos para el taller\n",
    "data = data.loc[data['Model'].str.contains('Camry')].drop(['Make', 'State'], axis=1)\n",
    "data = data.join(pd.get_dummies(data['Model'], prefix='M'))\n",
    "data['HighPrice'] = (data['Price'] > data['Price'].mean()).astype(int)\n",
    "data = data.drop(['Model', 'Price'], axis=1)\n",
    "\n",
    "# Visualización dataset\n",
    "data.head()"
   ]
  },
  {
   "cell_type": "code",
   "execution_count": 3,
   "metadata": {},
   "outputs": [],
   "source": [
    "# Separación de variables predictoras (X) y variable de interés (y)\n",
    "y = data['HighPrice']\n",
    "X = data.drop(['HighPrice'], axis=1)"
   ]
  },
  {
   "cell_type": "code",
   "execution_count": 4,
   "metadata": {},
   "outputs": [],
   "source": [
    "# Separación de datos en set de entrenamiento y test\n",
    "from sklearn.model_selection import train_test_split\n",
    "X_train, X_test, y_train, y_test = train_test_split(X, y, test_size=0.33, random_state=42)"
   ]
  },
  {
   "cell_type": "markdown",
   "metadata": {},
   "source": [
    "### Punto 1 - Árbol de decisión manual\n",
    "\n",
    "En la celda 1 creen un árbol de decisión **manualmente**  que considere los set de entrenamiento y test definidos anteriormente y presenten el acurracy del modelo en el set de test."
   ]
  },
  {
   "cell_type": "code",
   "execution_count": 5,
   "metadata": {},
   "outputs": [],
   "source": [
    "# Celda 1\n",
    "# Definición de parámetros y criterios de parada\n",
    "max_depth = 6\n",
    "num_pct = 10\n",
    "max_features = None\n",
    "min_gain=0.001\n",
    "\n",
    "# Definición de la función que calcula el gini index\n",
    "def gini(y):\n",
    "    if y.shape[0] == 0:\n",
    "        return 0\n",
    "    else:\n",
    "        return 1 - (y.mean()**2 + (1 - y.mean())**2)\n",
    "\n",
    "# Definición de la función gini_imputiry para calular la ganancia de una variable predictora j dado el punto de corte k\n",
    "def gini_impurity(X_col, y, split):\n",
    "    \n",
    "    filter_l = X_col < split\n",
    "    y_l = y.loc[filter_l]\n",
    "    y_r = y.loc[~filter_l]\n",
    "    \n",
    "    n_l = y_l.shape[0]\n",
    "    n_r = y_r.shape[0]\n",
    "    \n",
    "    gini_y = gini(y)\n",
    "    gini_l = gini(y_l)\n",
    "    gini_r = gini(y_r)\n",
    "    \n",
    "    gini_impurity_ = gini_y - (n_l / (n_l + n_r) * gini_l + n_r / (n_l + n_r) * gini_r)\n",
    "    \n",
    "    return gini_impurity_\n",
    "\n",
    "# Definición de la función best_split para calcular cuál es la mejor variable y punto de cortepara hacer la bifurcación del árbol\n",
    "def best_split(X, y, num_pct=10):\n",
    "    \n",
    "    features = range(X.shape[1])\n",
    "    \n",
    "    best_split = [0, 0, 0]  # j, split, gain\n",
    "    \n",
    "    # Para todas las varibles \n",
    "    for j in features:\n",
    "        \n",
    "        splits = np.percentile(X.iloc[:, j], np.arange(0, 100, 100.0 / (num_pct+1)).tolist())\n",
    "        splits = np.unique(splits)[1:]\n",
    "        \n",
    "        # Para cada partición\n",
    "        for split in splits:\n",
    "            gain = gini_impurity(X.iloc[:, j], y, split)\n",
    "                        \n",
    "            if gain > best_split[2]:\n",
    "                best_split = [j, split, gain]\n",
    "    \n",
    "    return best_split\n",
    "\n",
    "\n",
    "# Definición de la función tree_grow para hacer un crecimiento recursivo del árbol\n",
    "def tree_grow(X, y, level=0, min_gain=0.001, max_depth=None, num_pct=10):\n",
    "    \n",
    "    # Si solo es una observación\n",
    "    if X.shape[0] == 1:\n",
    "        tree = dict(y_pred=y.iloc[:1].values[0], y_prob=0.5, level=level, split=-1, n_samples=1, gain=0)\n",
    "        return tree\n",
    "    \n",
    "    # Calcular la mejor división\n",
    "    j, split, gain = best_split(X, y, num_pct)\n",
    "    \n",
    "    # Guardar el árbol y estimar la predicción\n",
    "    y_pred = int(y.mean() >= 0.5) \n",
    "    y_prob = (y.sum() + 1.0) / (y.shape[0] + 2.0)  # Corrección Laplace \n",
    "    \n",
    "    tree = dict(y_pred=y_pred, y_prob=y_prob, level=level, split=-1, n_samples=X.shape[0], gain=gain)\n",
    "    # Revisar el criterio de parada \n",
    "    if gain < min_gain:\n",
    "        return tree\n",
    "    if max_depth is not None:\n",
    "        if level >= max_depth:\n",
    "            return tree   \n",
    "    \n",
    "    # Continuar creando la partición\n",
    "    filter_l = X.iloc[:, j] < split\n",
    "    X_l, y_l = X.loc[filter_l], y.loc[filter_l]\n",
    "    X_r, y_r = X.loc[~filter_l], y.loc[~filter_l]\n",
    "    tree['split'] = [j, split]\n",
    "\n",
    "    # Siguiente iteración para cada partición\n",
    "    \n",
    "    tree['sl'] = tree_grow(X_l, y_l, level + 1, min_gain=min_gain, max_depth=max_depth, num_pct=num_pct)\n",
    "    tree['sr'] = tree_grow(X_r, y_r, level + 1, min_gain=min_gain, max_depth=max_depth, num_pct=num_pct)\n",
    "    \n",
    "    return tree"
   ]
  },
  {
   "cell_type": "code",
   "execution_count": 6,
   "metadata": {},
   "outputs": [],
   "source": [
    "# Definición de la función tree_predict para hacer predicciones según las variables 'X' y el árbol 'tree'\n",
    "\n",
    "def tree_predict(X, tree, proba=False):\n",
    "    \n",
    "    predicted = np.ones(X.shape[0])\n",
    "\n",
    "    # Revisar si es el nodo final\n",
    "    if tree['split'] == -1:\n",
    "        if not proba:\n",
    "            predicted = predicted * tree['y_pred']\n",
    "        else:\n",
    "            predicted = predicted * tree['y_prob']\n",
    "            \n",
    "    else:\n",
    "        \n",
    "        j, split = tree['split']\n",
    "        filter_l = (X.iloc[:, j] < split)\n",
    "        X_l = X.loc[filter_l]\n",
    "        X_r = X.loc[~filter_l]\n",
    "\n",
    "        if X_l.shape[0] == 0:  # Si el nodo izquierdo está vacio solo continua con el derecho \n",
    "            predicted[~filter_l] = tree_predict(X_r, tree['sr'], proba)\n",
    "        elif X_r.shape[0] == 0:  #  Si el nodo derecho está vacio solo continua con el izquierdo\n",
    "            predicted[filter_l] = tree_predict(X_l, tree['sl'], proba)\n",
    "        else:\n",
    "            predicted[filter_l] = tree_predict(X_l, tree['sl'], proba)\n",
    "            predicted[~filter_l] = tree_predict(X_r, tree['sr'], proba)\n",
    "\n",
    "    return predicted"
   ]
  },
  {
   "cell_type": "code",
   "execution_count": 28,
   "metadata": {},
   "outputs": [
    {
     "name": "stdout",
     "output_type": "stream",
     "text": [
      "Accuracy para modelo con profundidad de 5 es de: 0.8879907621247113\n"
     ]
    },
    {
     "data": {
      "image/png": "[encoded data removed]",
      "text/plain": [
       "<Figure size 504x360 with 1 Axes>"
      ]
     },
     "metadata": {
      "needs_background": "light"
     },
     "output_type": "display_data"
    }
   ],
   "source": [
    "\n",
    "\n",
    "\n",
    "# Creación de lista de valores para iterar sobre diferentes valores de n_estimators\n",
    "profundidad_range = range(10)\n",
    "\n",
    "# Definición de lista para almacenar la exactitud (accuracy) promedio para cada valor de n_estimators\n",
    "tree_accuracy_scores = []\n",
    "\n",
    "# Uso de un 5-fold cross-validation para cada valor de n_estimators\n",
    "for profundidad in profundidad_range:\n",
    "    tree=tree_grow(X_train, y_train, level=0, min_gain=0.001, max_depth=profundidad, num_pct=10)\n",
    "    # Ejecución de función tree_predict\n",
    "    predicion_arbol=tree_predict(X_test, tree)\n",
    "    tree_accuracy_scores.append(accuracy_score(y_test, predicion_arbol))\n",
    "\n",
    "plt.figure(figsize=(7,5))\n",
    "plt.plot(profundidad_range, tree_accuracy_scores)\n",
    "plt.xlabel('Profundidad Árbol')\n",
    "plt.ylabel('Accuracy')\n",
    "\n",
    "max_value = max(tree_accuracy_scores)\n",
    "td_acc=max_value\n",
    "max_index = tree_accuracy_scores.index(max_value)\n",
    "print('Accuracy para modelo con profundidad de', profundidad_range[max_index], 'es de:',max_value)"
   ]
  },
  {
   "cell_type": "markdown",
   "metadata": {},
   "source": [
    "### Punto 2 - Bagging manual\n",
    "\n",
    "En la celda 2 creen un modelo bagging **manualmente** con 10 árboles de clasificación y comenten sobre el desempeño del modelo."
   ]
  },
  {
   "cell_type": "code",
   "execution_count": 8,
   "metadata": {},
   "outputs": [
    {
     "name": "stdout",
     "output_type": "stream",
     "text": [
      "El Accuracy para el modelo Bagging manual con 10 árboles, votacion ponderada es de: \n",
      " 0.8432448036951501\n",
      "El Accuracy para el modelo Bagging manual con 10 árboles, votacion mayoritaria es de: \n",
      " 0.8432448036951501\n"
     ]
    }
   ],
   "source": [
    "# Celda 2\n",
    "# Creación de 10 muestras de bootstrap \n",
    "np.random.seed(100)\n",
    "\n",
    "n_samples = X_train.shape[0]\n",
    "n_B = 10\n",
    "\n",
    "samples = [np.random.choice(a=n_samples, size=n_samples, replace=True) for _ in range(1, n_B +1 )]\n",
    "\n",
    "# Visualización muestra boostrap #1 para entremiento\n",
    "X_train.iloc[samples[0], :]\n",
    "\n",
    "# Tree classifier\n",
    "treeclf=DecisionTreeClassifier(max_depth=None, random_state=6)\n",
    "y_pred = pd.DataFrame(index=y_test.index, columns=[list(range(n_B))])\n",
    "\n",
    "# Entrenamiento de un árbol sobre cada muestra boostrap y predicción sobre los datos de test\n",
    "for i, sample in enumerate(samples):\n",
    "    X_train_i = X_train.iloc[sample, 0:]\n",
    "    y_train_i = y_train.iloc[sample]\n",
    "    treeclf.fit(X_train, y_train)\n",
    "    y_pred.iloc[:,i] = treeclf.predict(X_test)\n",
    "    \n",
    "# Votación mayoritaria\n",
    "y_pred_votacion_mayoritaria = (y_pred.sum(axis=1) >= (n_B / 2)).astype(np.int)\n",
    "bagging_accuracy_scores=(accuracy_score(y_test, y_pred_votacion_mayoritaria))\n",
    "\n",
    "# Creación de 100 muestras de bootstrap\n",
    "n_estimators = 10\n",
    "# Estimación de los errores OOB para cada clasificador\n",
    "errors = np.zeros(n_estimators)\n",
    "# Obtención de los pesos alpha de cada modelo de acuerdo al error OOB\n",
    "alpha = (1 - errors) / (1 - errors).sum()\n",
    "# Ponderación de las predicciones con los pesos alpha\n",
    "weighted_sum_1 = ((y_pred) * alpha).sum(axis=1)\n",
    "# Desempeño al hacer votación ponderada\n",
    "y_pred_ponderada = (weighted_sum_1 >= 0.5).astype(np.int)\n",
    "bagging_accuracy_scores_p=(accuracy_score(y_test, y_pred_ponderada))\n",
    "\n",
    "print('El Accuracy para el modelo Bagging manual con 10 árboles, votacion ponderada es de: \\n', bagging_accuracy_scores_p)\n",
    "print('El Accuracy para el modelo Bagging manual con 10 árboles, votacion mayoritaria es de: \\n', bagging_accuracy_scores)"
   ]
  },
  {
   "cell_type": "markdown",
   "metadata": {},
   "source": [
    "### Punto 3 - Bagging con librería\n",
    "\n",
    "En la celda 3, con la librería sklearn, entrenen un modelo bagging con 10 árboles de clasificación y el parámetro `max_features` igual a `log(n_features)`. Presenten el acurracy del modelo en el set de test y comenten sus resultados."
   ]
  },
  {
   "cell_type": "code",
   "execution_count": 27,
   "metadata": {},
   "outputs": [
    {
     "name": "stdout",
     "output_type": "stream",
     "text": [
      "La matriz de predicciones para el arbol de decision es: \n",
      "\n",
      "[[1185  253]\n",
      " [ 282 1744]]\n",
      "Precision de la prediccion es: \n",
      " 0.8733099649474211\n",
      "F1_Score: \n",
      " 0.8670146656723838 \n",
      " Accuracy: \n",
      " 0.8455542725173211\n"
     ]
    }
   ],
   "source": [
    "# Celda 3\n",
    "# Uso de Baggingclfressor de la libreria (sklearn) donde se usa el modelo DecisionTreeRegressor como estimador\n",
    "n_features=X_train.shape[1]\n",
    "bagclf = BaggingClassifier(DecisionTreeClassifier(max_features=\"log2\"), n_estimators=10, \n",
    "                          bootstrap=True, oob_score=True, random_state=42)\n",
    "# Entrenemiento del modelo con set de entrenamiento y predicción en el set de test\n",
    "bagclf.fit(X_train, y_train)\n",
    "prediccionesbagging = bagclf.predict(X_test)\n",
    "\n",
    "# Matriz de prediccion correspondiente a la prediccion en test\n",
    "pred_matrix_bagging=confusion_matrix(y_true=y_test, y_pred=prediccionesbagging)\n",
    "print('La matriz de predicciones para el arbol de decision es: \\n')\n",
    "print(pred_matrix_bagging)\n",
    "\n",
    "# Precision: la precision de la prediccion test es:\n",
    "precisionbclf=precision_score(y_true=y_test, y_pred=prediccionesbagging)\n",
    "print('Precision de la prediccion es: \\n', precisionbclf)\n",
    "\n",
    "# Metricas\n",
    "print('F1_Score: \\n', metrics.f1_score(prediccionesbagging, y_test), '\\n Accuracy: \\n',metrics.accuracy_score(prediccionesbagging, y_test))\n",
    "\n",
    "\n"
   ]
  },
  {
   "cell_type": "markdown",
   "metadata": {},
   "source": [
    "### Punto 4 - Random forest con librería\n",
    "\n",
    "En la celda 4, usando la librería sklearn entrenen un modelo de Randon Forest para clasificación y presenten el acurracy del modelo en el set de test y comenten sus resultados."
   ]
  },
  {
   "cell_type": "code",
   "execution_count": 10,
   "metadata": {},
   "outputs": [
    {
     "name": "stdout",
     "output_type": "stream",
     "text": [
      "El Accuracy para el modelo Random Forest es de: 0.8418013856812933\n"
     ]
    }
   ],
   "source": [
    "# Celda 4\n",
    "clf_rf = RandomForestClassifier(n_estimators=10,random_state=0)\n",
    "clf_rf.fit(X_train, y_train)\n",
    "\n",
    "# Predicción\n",
    "y_pred_RF=clf_rf.predict(X_test)\n",
    "\n",
    "# Cálculo del Accuracy\n",
    "acc_rf =  (accuracy_score(y_test, y_pred_RF))\n",
    "print('El Accuracy para el modelo Random Forest es de:', acc_rf)"
   ]
  },
  {
   "cell_type": "code",
   "execution_count": 11,
   "metadata": {},
   "outputs": [
    {
     "data": {
      "text/html": [
       "<div>\n",
       "<style scoped>\n",
       "    .dataframe tbody tr th:only-of-type {\n",
       "        vertical-align: middle;\n",
       "    }\n",
       "\n",
       "    .dataframe tbody tr th {\n",
       "        vertical-align: top;\n",
       "    }\n",
       "\n",
       "    .dataframe thead th {\n",
       "        text-align: right;\n",
       "    }\n",
       "</style>\n",
       "<table border=\"1\" class=\"dataframe\">\n",
       "  <thead>\n",
       "    <tr style=\"text-align: right;\">\n",
       "      <th></th>\n",
       "      <th>feature</th>\n",
       "      <th>importance</th>\n",
       "    </tr>\n",
       "  </thead>\n",
       "  <tbody>\n",
       "    <tr>\n",
       "      <th>1</th>\n",
       "      <td>Mileage</td>\n",
       "      <td>0.611990</td>\n",
       "    </tr>\n",
       "    <tr>\n",
       "      <th>0</th>\n",
       "      <td>Year</td>\n",
       "      <td>0.246934</td>\n",
       "    </tr>\n",
       "    <tr>\n",
       "      <th>3</th>\n",
       "      <td>M_Camry4dr</td>\n",
       "      <td>0.077561</td>\n",
       "    </tr>\n",
       "    <tr>\n",
       "      <th>7</th>\n",
       "      <td>M_CamrySE</td>\n",
       "      <td>0.037222</td>\n",
       "    </tr>\n",
       "    <tr>\n",
       "      <th>6</th>\n",
       "      <td>M_CamryLE</td>\n",
       "      <td>0.008447</td>\n",
       "    </tr>\n",
       "    <tr>\n",
       "      <th>8</th>\n",
       "      <td>M_CamryXLE</td>\n",
       "      <td>0.008265</td>\n",
       "    </tr>\n",
       "    <tr>\n",
       "      <th>2</th>\n",
       "      <td>M_Camry</td>\n",
       "      <td>0.004129</td>\n",
       "    </tr>\n",
       "    <tr>\n",
       "      <th>5</th>\n",
       "      <td>M_CamryL</td>\n",
       "      <td>0.003582</td>\n",
       "    </tr>\n",
       "    <tr>\n",
       "      <th>4</th>\n",
       "      <td>M_CamryBase</td>\n",
       "      <td>0.001870</td>\n",
       "    </tr>\n",
       "  </tbody>\n",
       "</table>\n",
       "</div>"
      ],
      "text/plain": [
       "       feature  importance\n",
       "1      Mileage    0.611990\n",
       "0         Year    0.246934\n",
       "3   M_Camry4dr    0.077561\n",
       "7    M_CamrySE    0.037222\n",
       "6    M_CamryLE    0.008447\n",
       "8   M_CamryXLE    0.008265\n",
       "2      M_Camry    0.004129\n",
       "5     M_CamryL    0.003582\n",
       "4  M_CamryBase    0.001870"
      ]
     },
     "execution_count": 11,
     "metadata": {},
     "output_type": "execute_result"
    }
   ],
   "source": [
    "feature_cols=X_train.columns\n",
    "desp_rf_clf=pd.DataFrame({'feature':feature_cols, 'importance':clf_rf.feature_importances_}).sort_values('importance', ascending=False)\n",
    "desp_rf_clf"
   ]
  },
  {
   "cell_type": "markdown",
   "metadata": {},
   "source": [
    "### Punto 5 - Calibración de parámetros Random forest\n",
    "\n",
    "En la celda 5, calibren los parámetros max_depth, max_features y n_estimators del modelo de Randon Forest para clasificación. Presenten el acurracy del modelo en el set de test, comenten sus resultados y análicen cómo cada parámetro afecta el modelo."
   ]
  },
  {
   "cell_type": "code",
   "execution_count": 12,
   "metadata": {},
   "outputs": [
    {
     "name": "stdout",
     "output_type": "stream",
     "text": [
      "Accuracy para modelo con profundidad de 11 es de: 0.8439256788947118\n"
     ]
    },
    {
     "data": {
      "image/png": "[encoded data removed]",
      "text/plain": [
       "<Figure size 432x288 with 1 Axes>"
      ]
     },
     "metadata": {
      "needs_background": "light"
     },
     "output_type": "display_data"
    }
   ],
   "source": [
    "# Celda 5\n",
    "# Creación de lista de valores para iterar sobre diferentes valores de n_estimators\n",
    "estimator_range = range(1,15)\n",
    "\n",
    "# Definición de lista para almacenar la exactitud (accuracy) promedio para cada valor de n_estimators\n",
    "accuracy_scores = []\n",
    "\n",
    "# Uso de un 5-fold cross-validation para cada valor de n_estimators\n",
    "for estimator in estimator_range:\n",
    "    clf = RandomForestClassifier(n_estimators=estimator, random_state=1, n_jobs=-1)\n",
    "    accuracy_scores.append(cross_val_score(clf, X, y, cv=5, scoring='accuracy').mean())\n",
    "    \n",
    "\n",
    "# Gráfica del desempeño del modelo vs la cantidad de n_estimators\n",
    "plt.plot(estimator_range, accuracy_scores)\n",
    "plt.xlabel('n_estimators')\n",
    "plt.ylabel('Accuracy')\n",
    "\n",
    "max_value = max(accuracy_scores)\n",
    "max_index = accuracy_scores.index(max_value)\n",
    "print('Accuracy para modelo con profundidad de', estimator_range[max_index], 'es de:',max_value)"
   ]
  },
  {
   "cell_type": "code",
   "execution_count": 13,
   "metadata": {},
   "outputs": [
    {
     "name": "stdout",
     "output_type": "stream",
     "text": [
      "Accuracy para modelo con profundidad de 9 es de: 0.850976655550262\n"
     ]
    },
    {
     "data": {
      "image/png": "[encoded data removed]",
      "text/plain": [
       "<Figure size 432x288 with 1 Axes>"
      ]
     },
     "metadata": {
      "needs_background": "light"
     },
     "output_type": "display_data"
    }
   ],
   "source": [
    "feature_cols=X_train.columns\n",
    "\n",
    "# Creación de lista de valores para iterar sobre diferentes valores de max_features\n",
    "feature_range = range(1, len(feature_cols)+1)\n",
    "\n",
    "# Definición de lista para almacenar la exactitud (accuracy) promedio para cada valor de max_features\n",
    "accuracy_scores = []\n",
    "\n",
    "# Uso de un 10-fold cross-validation para cada valor de max_features\n",
    "for feature in feature_range:\n",
    "    clf = RandomForestClassifier(max_features=feature, random_state=1, n_jobs=-1)\n",
    "    accuracy_scores.append(cross_val_score(clf, X, y, cv=5, scoring='accuracy').mean())\n",
    "    \n",
    "# Gráfica del desempeño del modelo vs la cantidad de max_features\n",
    "plt.plot(feature_range, accuracy_scores)\n",
    "plt.xlabel('max_features')\n",
    "plt.ylabel('Accuracy')\n",
    "\n",
    "max_value = max(accuracy_scores)\n",
    "max_index = accuracy_scores.index(max_value)\n",
    "print('Accuracy para modelo con profundidad de', feature_range[max_index], 'es de:',max_value)"
   ]
  },
  {
   "cell_type": "code",
   "execution_count": 14,
   "metadata": {},
   "outputs": [
    {
     "name": "stdout",
     "output_type": "stream",
     "text": [
      "Accuracy para modelo con profundidad de 6 es de: 0.8845165917654002\n"
     ]
    },
    {
     "data": {
      "image/png": "[encoded data removed]",
      "text/plain": [
       "<Figure size 432x288 with 1 Axes>"
      ]
     },
     "metadata": {
      "needs_background": "light"
     },
     "output_type": "display_data"
    }
   ],
   "source": [
    "# Celda 5\n",
    "# Creación de lista de valores para iterar sobre diferentes valores de n_estimators\n",
    "depth_range = range(1,15)\n",
    "\n",
    "# Definición de lista para almacenar la exactitud (accuracy) promedio para cada valor de n_estimators\n",
    "accuracy_scores = []\n",
    "\n",
    "# Uso de un 5-fold cross-validation para cada valor de n_estimators\n",
    "for depth in estimator_range:\n",
    "    clf = RandomForestClassifier(max_depth=depth, random_state=1, n_jobs=-1)\n",
    "    accuracy_scores.append(cross_val_score(clf, X, y, cv=10, scoring='accuracy').mean())\n",
    "    \n",
    "\n",
    "# Gráfica del desempeño del modelo vs la cantidad de n_estimators\n",
    "plt.plot(depth_range, accuracy_scores)\n",
    "plt.xlabel('n_estimators')\n",
    "plt.ylabel('Accuracy')\n",
    "\n",
    "max_value = max(accuracy_scores)\n",
    "max_index = accuracy_scores.index(max_value)\n",
    "print('Accuracy para modelo con profundidad de', depth_range[max_index], 'es de:',max_value)"
   ]
  },
  {
   "cell_type": "code",
   "execution_count": 191,
   "metadata": {},
   "outputs": [
    {
     "name": "stdout",
     "output_type": "stream",
     "text": [
      "Accuracy para modelo con profundidad de 14 es de: 0.8900115473441108\n"
     ]
    },
    {
     "data": {
      "image/png": "[encoded data removed]",
      "text/plain": [
       "<Figure size 432x288 with 1 Axes>"
      ]
     },
     "metadata": {
      "needs_background": "light"
     },
     "output_type": "display_data"
    }
   ],
   "source": [
    "# Creación de lista de valores para iterar sobre diferentes valores de n_estimators\n",
    "estimator_range = range(1,20)\n",
    "\n",
    "# Definición de lista para almacenar la exactitud (accuracy) promedio para cada valor de n_estimators\n",
    "accuracy_scores = []\n",
    "\n",
    "# Uso de un 5-fold cross-validation para cada valor de n_estimators\n",
    "for estimator in estimator_range:\n",
    "    clf_rf_calibrado = RandomForestClassifier(n_estimators=estimator, max_features=9,max_depth=6, random_state=0, n_jobs=-1)\n",
    "    clf_rf_calibrado.fit(X_train, y_train)\n",
    "    y_pred_RF_calibrado=clf_rf_calibrado.predict(X_test)\n",
    "    accuracy_scores.append(accuracy_score(y_test, y_pred_RF_calibrado))\n",
    "    \n",
    "\n",
    "# Gráfica del desempeño del modelo vs la cantidad de n_estimators\n",
    "plt.plot(estimator_range, accuracy_scores)\n",
    "plt.xlabel('n_estimators')\n",
    "plt.ylabel('Accuracy')\n",
    "\n",
    "max_value = max(accuracy_scores)\n",
    "max_index = accuracy_scores.index(max_value)\n",
    "print('Accuracy para modelo con profundidad de', estimator_range[max_index], 'es de:',max_value)"
   ]
  },
  {
   "cell_type": "code",
   "execution_count": 190,
   "metadata": {},
   "outputs": [
    {
     "name": "stdout",
     "output_type": "stream",
     "text": [
      "El Accuracy para el modelo Random Forest es de: 0.8900115473441108\n"
     ]
    }
   ],
   "source": [
    "clf_rf_calibrado = RandomForestClassifier(n_estimators=14,max_features=9,max_depth=6, random_state=0, n_jobs=-1)\n",
    "clf_rf_calibrado.fit(X_train, y_train)\n",
    "\n",
    "# Predicción\n",
    "y_pred_RF_calibrado=clf_rf_calibrado.predict(X_test)\n",
    "\n",
    "# Cálculo del Accuracy\n",
    "acc_rf_cal =  (accuracy_score(y_test, y_pred_RF_calibrado))\n",
    "print('El Accuracy para el modelo Random Forest es de:', acc_rf_cal)"
   ]
  },
  {
   "cell_type": "code",
   "execution_count": 192,
   "metadata": {},
   "outputs": [
    {
     "data": {
      "text/html": [
       "<div>\n",
       "<style scoped>\n",
       "    .dataframe tbody tr th:only-of-type {\n",
       "        vertical-align: middle;\n",
       "    }\n",
       "\n",
       "    .dataframe tbody tr th {\n",
       "        vertical-align: top;\n",
       "    }\n",
       "\n",
       "    .dataframe thead th {\n",
       "        text-align: right;\n",
       "    }\n",
       "</style>\n",
       "<table border=\"1\" class=\"dataframe\">\n",
       "  <thead>\n",
       "    <tr style=\"text-align: right;\">\n",
       "      <th></th>\n",
       "      <th>feature</th>\n",
       "      <th>importance</th>\n",
       "    </tr>\n",
       "  </thead>\n",
       "  <tbody>\n",
       "    <tr>\n",
       "      <th>1</th>\n",
       "      <td>Mileage</td>\n",
       "      <td>0.671622</td>\n",
       "    </tr>\n",
       "    <tr>\n",
       "      <th>0</th>\n",
       "      <td>Year</td>\n",
       "      <td>0.290596</td>\n",
       "    </tr>\n",
       "    <tr>\n",
       "      <th>6</th>\n",
       "      <td>M_CamryLE</td>\n",
       "      <td>0.018264</td>\n",
       "    </tr>\n",
       "    <tr>\n",
       "      <th>8</th>\n",
       "      <td>M_CamryXLE</td>\n",
       "      <td>0.009854</td>\n",
       "    </tr>\n",
       "    <tr>\n",
       "      <th>2</th>\n",
       "      <td>M_Camry</td>\n",
       "      <td>0.007757</td>\n",
       "    </tr>\n",
       "    <tr>\n",
       "      <th>5</th>\n",
       "      <td>M_CamryL</td>\n",
       "      <td>0.001106</td>\n",
       "    </tr>\n",
       "    <tr>\n",
       "      <th>7</th>\n",
       "      <td>M_CamrySE</td>\n",
       "      <td>0.000768</td>\n",
       "    </tr>\n",
       "    <tr>\n",
       "      <th>3</th>\n",
       "      <td>M_Camry4dr</td>\n",
       "      <td>0.000034</td>\n",
       "    </tr>\n",
       "    <tr>\n",
       "      <th>4</th>\n",
       "      <td>M_CamryBase</td>\n",
       "      <td>0.000000</td>\n",
       "    </tr>\n",
       "  </tbody>\n",
       "</table>\n",
       "</div>"
      ],
      "text/plain": [
       "       feature  importance\n",
       "1      Mileage    0.671622\n",
       "0         Year    0.290596\n",
       "6    M_CamryLE    0.018264\n",
       "8   M_CamryXLE    0.009854\n",
       "2      M_Camry    0.007757\n",
       "5     M_CamryL    0.001106\n",
       "7    M_CamrySE    0.000768\n",
       "3   M_Camry4dr    0.000034\n",
       "4  M_CamryBase    0.000000"
      ]
     },
     "execution_count": 192,
     "metadata": {},
     "output_type": "execute_result"
    }
   ],
   "source": [
    "desp_rf_clf_cal=pd.DataFrame({'feature':feature_cols, 'importance':clf_rf_calibrado.feature_importances_}).sort_values('importance', ascending=False)\n",
    "desp_rf_clf_cal\n"
   ]
  },
  {
   "cell_type": "markdown",
   "metadata": {},
   "source": [
    "### Punto 6 - XGBoost con librería\n",
    "\n",
    "En la celda 6 implementen un modelo XGBoost de clasificación con la librería sklearn, presenten el acurracy del modelo en el set de test y comenten sus resultados."
   ]
  },
  {
   "cell_type": "code",
   "execution_count": 17,
   "metadata": {},
   "outputs": [
    {
     "name": "stdout",
     "output_type": "stream",
     "text": [
      "El Accuracy para el modelo XGBoost calibrado es de: 0.8856812933025404\n"
     ]
    }
   ],
   "source": [
    "# Celda 6\n",
    "xgb_clf = XGBClassifier()\n",
    "# Entrenamiento (fit) y desempeño del modelo XGBClassifier\n",
    "xgb_clf.fit(X_train, y_train)\n",
    "y_pred_xgb = xgb_clf.predict(X_test)\n",
    "\n",
    "# Cálculo del Accuracy\n",
    "acc_xgb = (accuracy_score(y_test, y_pred_xgb))\n",
    "print('El Accuracy para el modelo XGBoost calibrado es de:', acc_xgb)"
   ]
  },
  {
   "cell_type": "code",
   "execution_count": 18,
   "metadata": {},
   "outputs": [
    {
     "data": {
      "text/html": [
       "<div>\n",
       "<style scoped>\n",
       "    .dataframe tbody tr th:only-of-type {\n",
       "        vertical-align: middle;\n",
       "    }\n",
       "\n",
       "    .dataframe tbody tr th {\n",
       "        vertical-align: top;\n",
       "    }\n",
       "\n",
       "    .dataframe thead th {\n",
       "        text-align: right;\n",
       "    }\n",
       "</style>\n",
       "<table border=\"1\" class=\"dataframe\">\n",
       "  <thead>\n",
       "    <tr style=\"text-align: right;\">\n",
       "      <th></th>\n",
       "      <th>feature</th>\n",
       "      <th>importance</th>\n",
       "    </tr>\n",
       "  </thead>\n",
       "  <tbody>\n",
       "    <tr>\n",
       "      <th>0</th>\n",
       "      <td>Year</td>\n",
       "      <td>0.469196</td>\n",
       "    </tr>\n",
       "    <tr>\n",
       "      <th>1</th>\n",
       "      <td>Mileage</td>\n",
       "      <td>0.147454</td>\n",
       "    </tr>\n",
       "    <tr>\n",
       "      <th>6</th>\n",
       "      <td>M_CamryLE</td>\n",
       "      <td>0.101129</td>\n",
       "    </tr>\n",
       "    <tr>\n",
       "      <th>8</th>\n",
       "      <td>M_CamryXLE</td>\n",
       "      <td>0.088409</td>\n",
       "    </tr>\n",
       "    <tr>\n",
       "      <th>2</th>\n",
       "      <td>M_Camry</td>\n",
       "      <td>0.074973</td>\n",
       "    </tr>\n",
       "    <tr>\n",
       "      <th>5</th>\n",
       "      <td>M_CamryL</td>\n",
       "      <td>0.066302</td>\n",
       "    </tr>\n",
       "    <tr>\n",
       "      <th>3</th>\n",
       "      <td>M_Camry4dr</td>\n",
       "      <td>0.027128</td>\n",
       "    </tr>\n",
       "    <tr>\n",
       "      <th>7</th>\n",
       "      <td>M_CamrySE</td>\n",
       "      <td>0.025409</td>\n",
       "    </tr>\n",
       "    <tr>\n",
       "      <th>4</th>\n",
       "      <td>M_CamryBase</td>\n",
       "      <td>0.000000</td>\n",
       "    </tr>\n",
       "  </tbody>\n",
       "</table>\n",
       "</div>"
      ],
      "text/plain": [
       "       feature  importance\n",
       "0         Year    0.469196\n",
       "1      Mileage    0.147454\n",
       "6    M_CamryLE    0.101129\n",
       "8   M_CamryXLE    0.088409\n",
       "2      M_Camry    0.074973\n",
       "5     M_CamryL    0.066302\n",
       "3   M_Camry4dr    0.027128\n",
       "7    M_CamrySE    0.025409\n",
       "4  M_CamryBase    0.000000"
      ]
     },
     "execution_count": 18,
     "metadata": {},
     "output_type": "execute_result"
    }
   ],
   "source": [
    "# Impresión de resultados de desemepeño del modelo\n",
    "desp_xgb_clf=pd.DataFrame({'feature':feature_cols, 'importance':xgb_clf.feature_importances_}).sort_values('importance', ascending=False)\n",
    "desp_xgb_clf"
   ]
  },
  {
   "cell_type": "markdown",
   "metadata": {},
   "source": [
    "### Punto 7 - Calibración de parámetros XGBoost\n",
    "\n",
    "En la celda 7 calibren los parámetros learning rate, gamma y colsample_bytree del modelo XGBoost para clasificación. Presenten el acurracy del modelo en el set de test, comenten sus resultados y análicen cómo cada parámetro afecta el modelo."
   ]
  },
  {
   "cell_type": "markdown",
   "metadata": {},
   "source": [
    "##### Calibracion de parametros de manera individual"
   ]
  },
  {
   "cell_type": "code",
   "execution_count": 19,
   "metadata": {},
   "outputs": [
    {
     "name": "stdout",
     "output_type": "stream",
     "text": [
      "Accuracy para modelo con profundidad de 0.1 es de: 0.8792524731669469\n"
     ]
    },
    {
     "data": {
      "image/png": "[encoded data removed]",
      "text/plain": [
       "<Figure size 432x288 with 1 Axes>"
      ]
     },
     "metadata": {
      "needs_background": "light"
     },
     "output_type": "display_data"
    }
   ],
   "source": [
    "# Celda 7\n",
    "# Creación de lista de valores para iterar sobre diferentes valores de n_estimators\n",
    "learning_rate_range = [0.0001,0.001,0.01,0.1,0.2,0.5,0.9,1,1.5]\n",
    "\n",
    "# Definición de lista para almacenar la exactitud (accuracy) promedio para cada valor de n_estimators\n",
    "accuracy_scores = []\n",
    "\n",
    "# Uso de un 5-fold cross-validation para cada valor de n_estimators\n",
    "for lr in learning_rate_range:\n",
    "    xgb_clf = XGBClassifier(learning_rate=lr)\n",
    "    accuracy_scores.append(cross_val_score(xgb_clf,X_train, y_train, cv=10, scoring='accuracy').mean())\n",
    "    \n",
    "\n",
    "# Gráfica del desempeño del modelo vs la cantidad de n_estimators\n",
    "plt.plot(learning_rate_range, accuracy_scores)\n",
    "plt.xlabel('n_estimators')\n",
    "plt.ylabel('Accuracy')\n",
    "\n",
    "max_value = max(accuracy_scores)\n",
    "max_index = accuracy_scores.index(max_value)\n",
    "print('Accuracy para modelo con profundidad de', learning_rate_range[max_index], 'es de:',max_value)"
   ]
  },
  {
   "cell_type": "code",
   "execution_count": 20,
   "metadata": {},
   "outputs": [
    {
     "name": "stdout",
     "output_type": "stream",
     "text": [
      "Accuracy para modelo con profundidad de 1 es de: 0.8795367661321608\n"
     ]
    },
    {
     "data": {
      "image/png": "[encoded data removed]",
      "text/plain": [
       "<Figure size 432x288 with 1 Axes>"
      ]
     },
     "metadata": {
      "needs_background": "light"
     },
     "output_type": "display_data"
    }
   ],
   "source": [
    "# Creación de lista de valores para iterar sobre diferentes valores de n_estimators\n",
    "gamma_range = [0.001, 0.2,  0.4,  0.6,  0.8, 1,40,50,70]\n",
    "\n",
    "# Definición de lista para almacenar la exactitud (accuracy) promedio para cada valor de n_estimators\n",
    "accuracy_scores = []\n",
    "\n",
    "# Uso de un 5-fold cross-validation para cada valor de n_estimators\n",
    "for g in gamma_range:\n",
    "    xgb_clf = XGBClassifier(gamma=g)\n",
    "    accuracy_scores.append(cross_val_score(xgb_clf, X_train, y_train, cv=10, scoring='accuracy').mean())\n",
    "    \n",
    "\n",
    "# Gráfica del desempeño del modelo vs la cantidad de n_estimators\n",
    "plt.plot(gamma_range, accuracy_scores)\n",
    "plt.xlabel('gamma')\n",
    "plt.ylabel('Accuracy')\n",
    "\n",
    "max_value = max(accuracy_scores)\n",
    "max_index = accuracy_scores.index(max_value)\n",
    "print('Accuracy para modelo con profundidad de', gamma_range[max_index], 'es de:',max_value)"
   ]
  },
  {
   "cell_type": "code",
   "execution_count": 21,
   "metadata": {},
   "outputs": [
    {
     "name": "stdout",
     "output_type": "stream",
     "text": [
      "Accuracy para modelo con profundidad de 0.4 es de: 0.8812431300918144\n"
     ]
    },
    {
     "data": {
      "image/png": "[encoded data removed]",
      "text/plain": [
       "<Figure size 432x288 with 1 Axes>"
      ]
     },
     "metadata": {
      "needs_background": "light"
     },
     "output_type": "display_data"
    }
   ],
   "source": [
    "# Creación de lista de valores para iterar sobre diferentes valores de n_estimators\n",
    "estimator_range = [0.1, 0.2, 0.3, 0.4, 0.5, 0.6, 0.7, 0.8, 0.9, 1]\n",
    "\n",
    "# Definición de lista para almacenar la exactitud (accuracy) promedio para cada valor de n_estimators\n",
    "accuracy_scores = []\n",
    "\n",
    "# Uso de un 5-fold cross-validation para cada valor de n_estimators\n",
    "for e in estimator_range:\n",
    "    xgb_clf = XGBClassifier(learning_rate=0.1,colsample_bytree=e)\n",
    "    accuracy_scores.append(cross_val_score(xgb_clf, X_train, y_train, cv=10, scoring='accuracy').mean())\n",
    "    \n",
    "\n",
    "# Gráfica del desempeño del modelo vs la cantidad de n_estimators\n",
    "plt.plot(estimator_range, accuracy_scores)\n",
    "plt.xlabel('gamma')\n",
    "plt.ylabel('Accuracy')\n",
    "\n",
    "max_value = max(accuracy_scores)\n",
    "max_index = accuracy_scores.index(max_value)\n",
    "print('Accuracy para modelo con profundidad de', estimator_range[max_index], 'es de:',max_value)"
   ]
  },
  {
   "cell_type": "markdown",
   "metadata": {},
   "source": [
    "##### Calibracion de parametros de manera grupal"
   ]
  },
  {
   "cell_type": "code",
   "execution_count": 77,
   "metadata": {},
   "outputs": [
    {
     "name": "stdout",
     "output_type": "stream",
     "text": [
      "El Accuracy para el modelo XGBoost calibrado es de: 0.8874133949191686\n"
     ]
    }
   ],
   "source": [
    "# Utilizando el valor de los parametros calibrados individualmente\n",
    "\n",
    "xgb_clf_cal = XGBClassifier(learning_rate=0.1,gamma=1,colsample_bytree=0.4)\n",
    "# Entrenamiento (fit) y desempeño del modelo XGBClassifier\n",
    "xgb_clf_cal.fit(X_train, y_train)\n",
    "y_pred_xgb_cal = xgb_clf_cal.predict(X_test)\n",
    "# metrics.f1_score(y_pred_xgb, y_test.values), metrics.accuracy_score(y_pred_xgb, y_test.values)\n",
    "\n",
    "# Cálculo del Accuracy\n",
    "acc_XGB_cal = (accuracy_score(y_test, y_pred_xgb_cal))\n",
    "print('El Accuracy para el modelo XGBoost calibrado es de:', acc_XGB_cal)"
   ]
  },
  {
   "cell_type": "code",
   "execution_count": 148,
   "metadata": {},
   "outputs": [
    {
     "name": "stdout",
     "output_type": "stream",
     "text": [
      "El mejor parametro es de para colsample_bytree es: 0.5 \n",
      "El Accuracy para el modelo XGBoost calibrado es de: 0.8894341801385681\n"
     ]
    },
    {
     "data": {
      "image/png": "[encoded data removed]",
      "text/plain": [
       "<Figure size 432x288 with 1 Axes>"
      ]
     },
     "metadata": {
      "needs_background": "light"
     },
     "output_type": "display_data"
    }
   ],
   "source": [
    "# calibrando Solo el parametro colsample_bytree, y dejando los valores obtenidos para learning_rate, gamma\n",
    "\n",
    "# Entrenamiento (fit) y desempeño del modelo XGBClassifier\n",
    "\n",
    "\n",
    "\n",
    "estimator_range = [0.1, 0.2, 0.3, 0.4, 0.5, 0.6, 0.7, 0.8, 0.9, 1]\n",
    "\n",
    "# Definición de lista para almacenar la exactitud (accuracy) promedio para cada valor de n_estimators\n",
    "accuracy_scores = []\n",
    "\n",
    "# Uso de un 5-fold cross-validation para cada valor de n_estimators\n",
    "for e in estimator_range:\n",
    "    xgb_clf_cal = XGBClassifier(learning_rate=0.1,gamma=1,colsample_bytree=e)\n",
    "    xgb_clf_cal.fit(X_train, y_train)\n",
    "    y_pred_xgb_cal = xgb_clf_cal.predict(X_test)\n",
    "    accuracy_scores.append((accuracy_score(y_test, y_pred_xgb_cal)))\n",
    "    \n",
    "\n",
    "# Gráfica del desempeño del modelo vs la cantidad de n_estimators\n",
    "plt.plot(estimator_range, accuracy_scores)\n",
    "plt.xlabel('gamma')\n",
    "plt.ylabel('Accuracy')\n",
    "\n",
    "max_value = max(accuracy_scores)\n",
    "max_index = accuracy_scores.index(max_value)\n",
    "print('El mejor parametro es de para colsample_bytree es:', estimator_range[max_index], '\\nEl Accuracy para el modelo XGBoost calibrado es de:',max_value)\n",
    "\n"
   ]
  },
  {
   "cell_type": "code",
   "execution_count": 119,
   "metadata": {},
   "outputs": [
    {
     "name": "stdout",
     "output_type": "stream",
     "text": [
      "El mejor parametro es de para gamma es: 0.2 \n",
      "El Accuracy para el modelo XGBoost calibrado es de: 0.8897228637413395\n"
     ]
    },
    {
     "data": {
      "image/png": "[encoded data removed]",
      "text/plain": [
       "<Figure size 432x288 with 1 Axes>"
      ]
     },
     "metadata": {
      "needs_background": "light"
     },
     "output_type": "display_data"
    }
   ],
   "source": [
    "# calibrando Solo el parametro gamma y dejando los valores obtenidos para learning_rate, colsample_bytree\n",
    "\n",
    "# Creación de lista de valores para iterar sobre diferentes valores de n_estimators\n",
    "gamma_range = [0.001, 0.2,  0.4,  0.6,  0.8, 1,40,50,70]\n",
    "\n",
    "# Definición de lista para almacenar la exactitud (accuracy) promedio para cada valor de n_estimators\n",
    "accuracy_scores = []\n",
    "\n",
    "# Uso de un 5-fold cross-validation para cada valor de n_estimators\n",
    "for g in gamma_range:\n",
    "    xgb_clf_cal = XGBClassifier(learning_rate=0.1,gamma=g,colsample_bytree=0.5)\n",
    "    xgb_clf_cal.fit(X_train, y_train)\n",
    "    y_pred_xgb_cal = xgb_clf_cal.predict(X_test)\n",
    "    accuracy_scores.append((accuracy_score(y_test, y_pred_xgb_cal)))\n",
    "    \n",
    "\n",
    "# Gráfica del desempeño del modelo vs la cantidad de n_estimators\n",
    "plt.plot(gamma_range, accuracy_scores)\n",
    "plt.xlabel('gamma')\n",
    "plt.ylabel('Accuracy')\n",
    "\n",
    "max_value = max(accuracy_scores)\n",
    "max_index = accuracy_scores.index(max_value)\n",
    "print('El mejor parametro es de para gamma es:', gamma_range[max_index], '\\nEl Accuracy para el modelo XGBoost calibrado es de:',max_value)\n"
   ]
  },
  {
   "cell_type": "code",
   "execution_count": 139,
   "metadata": {},
   "outputs": [
    {
     "name": "stdout",
     "output_type": "stream",
     "text": [
      "El mejor parametro es de para gamma es: 30 \n",
      "El Accuracy para el modelo XGBoost calibrado es de: 0.8914549653579676\n"
     ]
    },
    {
     "data": {
      "image/png": "[encoded data removed]",
      "text/plain": [
       "<Figure size 432x288 with 1 Axes>"
      ]
     },
     "metadata": {
      "needs_background": "light"
     },
     "output_type": "display_data"
    }
   ],
   "source": [
    "#Despues se realizaron iteraciones de los parametros learning_rate y colsample_bytree a la vez, \n",
    "# luego de llegar al mejor valor de esos dos parametros, se comenzo nuevamente la iteracion de gamma\n",
    "\n",
    "\n",
    "\n",
    "# Creación de lista de valores para iterar sobre diferentes valores de n_estimators\n",
    "gamma_range = [0.001, 0.2,  0.4,  0.6,  0.8, 1,10,20,30,40,50,70]\n",
    "\n",
    "# Definición de lista para almacenar la exactitud (accuracy) promedio para cada valor de n_estimators\n",
    "accuracy_scores = []\n",
    "\n",
    "# Uso de un 5-fold cross-validation para cada valor de n_estimators\n",
    "for g in gamma_range:\n",
    "    xgb_clf_cal = XGBClassifier(learning_rate=0.3,gamma=g,colsample_bytree=0.7)\n",
    "    xgb_clf_cal.fit(X_train, y_train)\n",
    "    y_pred_xgb_cal = xgb_clf_cal.predict(X_test)\n",
    "    accuracy_scores.append((accuracy_score(y_test, y_pred_xgb_cal)))\n",
    "    \n",
    "\n",
    "# Gráfica del desempeño del modelo vs la cantidad de n_estimators\n",
    "plt.plot(gamma_range, accuracy_scores)\n",
    "plt.xlabel('gamma')\n",
    "plt.ylabel('Accuracy')\n",
    "\n",
    "max_value = max(accuracy_scores)\n",
    "max_index = accuracy_scores.index(max_value)\n",
    "print('El mejor parametro es de para gamma es:', gamma_range[max_index], '\\nEl Accuracy para el modelo XGBoost calibrado es de:',max_value)\n"
   ]
  },
  {
   "cell_type": "code",
   "execution_count": 144,
   "metadata": {},
   "outputs": [
    {
     "name": "stdout",
     "output_type": "stream",
     "text": [
      "El Accuracy para el modelo XGBoost calibrado es de: 0.8914549653579676\n"
     ]
    }
   ],
   "source": [
    "#xgb_clf_cal = XGBClassifier(learning_rate=0.3,gamma=20,colsample_bytree=0.7)\n",
    "xgb_clf_cal = XGBClassifier(learning_rate=0.3,gamma=30,colsample_bytree=0.7)\n",
    "# Entrenamiento (fit) y desempeño del modelo XGBClassifier\n",
    "xgb_clf_cal.fit(X_train, y_train)\n",
    "y_pred_xgb_cal = xgb_clf_cal.predict(X_test)\n",
    "# metrics.f1_score(y_pred_xgb, y_test.values), metrics.accuracy_score(y_pred_xgb, y_test.values)\n",
    "\n",
    "# Cálculo del Accuracy\n",
    "acc_XGB_cal = (accuracy_score(y_test, y_pred_xgb_cal))\n",
    "print('El Accuracy para el modelo XGBoost calibrado es de:', acc_XGB_cal)"
   ]
  },
  {
   "cell_type": "code",
   "execution_count": 145,
   "metadata": {},
   "outputs": [
    {
     "data": {
      "text/html": [
       "<div>\n",
       "<style scoped>\n",
       "    .dataframe tbody tr th:only-of-type {\n",
       "        vertical-align: middle;\n",
       "    }\n",
       "\n",
       "    .dataframe tbody tr th {\n",
       "        vertical-align: top;\n",
       "    }\n",
       "\n",
       "    .dataframe thead th {\n",
       "        text-align: right;\n",
       "    }\n",
       "</style>\n",
       "<table border=\"1\" class=\"dataframe\">\n",
       "  <thead>\n",
       "    <tr style=\"text-align: right;\">\n",
       "      <th></th>\n",
       "      <th>feature</th>\n",
       "      <th>importance</th>\n",
       "    </tr>\n",
       "  </thead>\n",
       "  <tbody>\n",
       "    <tr>\n",
       "      <th>1</th>\n",
       "      <td>Mileage</td>\n",
       "      <td>0.472876</td>\n",
       "    </tr>\n",
       "    <tr>\n",
       "      <th>0</th>\n",
       "      <td>Year</td>\n",
       "      <td>0.272112</td>\n",
       "    </tr>\n",
       "    <tr>\n",
       "      <th>3</th>\n",
       "      <td>M_Camry4dr</td>\n",
       "      <td>0.110480</td>\n",
       "    </tr>\n",
       "    <tr>\n",
       "      <th>6</th>\n",
       "      <td>M_CamryLE</td>\n",
       "      <td>0.054892</td>\n",
       "    </tr>\n",
       "    <tr>\n",
       "      <th>8</th>\n",
       "      <td>M_CamryXLE</td>\n",
       "      <td>0.046704</td>\n",
       "    </tr>\n",
       "    <tr>\n",
       "      <th>2</th>\n",
       "      <td>M_Camry</td>\n",
       "      <td>0.042935</td>\n",
       "    </tr>\n",
       "    <tr>\n",
       "      <th>4</th>\n",
       "      <td>M_CamryBase</td>\n",
       "      <td>0.000000</td>\n",
       "    </tr>\n",
       "    <tr>\n",
       "      <th>5</th>\n",
       "      <td>M_CamryL</td>\n",
       "      <td>0.000000</td>\n",
       "    </tr>\n",
       "    <tr>\n",
       "      <th>7</th>\n",
       "      <td>M_CamrySE</td>\n",
       "      <td>0.000000</td>\n",
       "    </tr>\n",
       "  </tbody>\n",
       "</table>\n",
       "</div>"
      ],
      "text/plain": [
       "       feature  importance\n",
       "1      Mileage    0.472876\n",
       "0         Year    0.272112\n",
       "3   M_Camry4dr    0.110480\n",
       "6    M_CamryLE    0.054892\n",
       "8   M_CamryXLE    0.046704\n",
       "2      M_Camry    0.042935\n",
       "4  M_CamryBase    0.000000\n",
       "5     M_CamryL    0.000000\n",
       "7    M_CamrySE    0.000000"
      ]
     },
     "execution_count": 145,
     "metadata": {},
     "output_type": "execute_result"
    }
   ],
   "source": [
    "# Impresión de resultados de desemepeño del modelo\n",
    "desp_xgb_clf_cal=pd.DataFrame({'feature':feature_cols, 'importance':xgb_clf_cal.feature_importances_}).sort_values('importance', ascending=False)\n",
    "desp_xgb_clf_cal"
   ]
  },
  {
   "cell_type": "markdown",
   "metadata": {},
   "source": [
    "### Punto 8 - Comparación y análisis de resultados\n",
    "En la celda 8 comparen los resultados obtenidos de los diferentes modelos (random forest y XGBoost) y comenten las ventajas del mejor modelo y las desventajas del modelo con el menor desempeño."
   ]
  },
  {
   "cell_type": "code",
   "execution_count": 193,
   "metadata": {},
   "outputs": [
    {
     "name": "stdout",
     "output_type": "stream",
     "text": [
      "\n",
      "Usando Random Forest sin variables\n",
      "       feature  importance\n",
      "1      Mileage    0.611990\n",
      "0         Year    0.246934\n",
      "3   M_Camry4dr    0.077561\n",
      "7    M_CamrySE    0.037222\n",
      "6    M_CamryLE    0.008447\n",
      "8   M_CamryXLE    0.008265\n",
      "2      M_Camry    0.004129\n",
      "5     M_CamryL    0.003582\n",
      "4  M_CamryBase    0.001870\n",
      "\n",
      "\n",
      "Usando Random Forest con los parámetros max_depth, max_features y n_estimators, calibrados\n",
      "       feature  importance\n",
      "1      Mileage    0.671622\n",
      "0         Year    0.290596\n",
      "6    M_CamryLE    0.018264\n",
      "8   M_CamryXLE    0.009854\n",
      "2      M_Camry    0.007757\n",
      "5     M_CamryL    0.001106\n",
      "7    M_CamrySE    0.000768\n",
      "3   M_Camry4dr    0.000034\n",
      "4  M_CamryBase    0.000000\n",
      "\n",
      "\n",
      "Usando XGBoost sin variables\n",
      "        feature  importance\n",
      "0         Year    0.469196\n",
      "1      Mileage    0.147454\n",
      "6    M_CamryLE    0.101129\n",
      "8   M_CamryXLE    0.088409\n",
      "2      M_Camry    0.074973\n",
      "5     M_CamryL    0.066302\n",
      "3   M_Camry4dr    0.027128\n",
      "7    M_CamrySE    0.025409\n",
      "4  M_CamryBase    0.000000\n",
      "\n",
      "\n",
      "Usando XGBoost con los parámetros learning rate, gamma y colsample_bytree, calibrados\n",
      "       feature  importance\n",
      "1      Mileage    0.472876\n",
      "0         Year    0.272112\n",
      "3   M_Camry4dr    0.110480\n",
      "6    M_CamryLE    0.054892\n",
      "8   M_CamryXLE    0.046704\n",
      "2      M_Camry    0.042935\n",
      "4  M_CamryBase    0.000000\n",
      "5     M_CamryL    0.000000\n",
      "7    M_CamrySE    0.000000\n",
      "\n"
     ]
    }
   ],
   "source": [
    "# Celda 8\n",
    "\n",
    "\n",
    "print(f\"\\nUsando Random Forest sin variables\\n{desp_rf_clf}\\n\")\n",
    "print(f\"\\nUsando Random Forest con los parámetros max_depth, max_features y n_estimators, calibrados\\n{desp_rf_clf_cal}\\n\")\n",
    "print(f\"\\nUsando XGBoost sin variables\\n {desp_xgb_clf}\\n\")\n",
    "print(f\"\\nUsando XGBoost con los parámetros learning rate, gamma y colsample_bytree, calibrados\\n{desp_xgb_clf_cal}\\n\")"
   ]
  },
  {
   "cell_type": "code",
   "execution_count": 194,
   "metadata": {},
   "outputs": [
    {
     "data": {
      "image/png": "[encoded data removed]",
      "text/plain": [
       "<Figure size 1080x504 with 1 Axes>"
      ]
     },
     "metadata": {
      "needs_background": "light"
     },
     "output_type": "display_data"
    }
   ],
   "source": [
    "\n",
    "# Comparación de todos los resultados\n",
    "\n",
    "fig = plt.figure(figsize=(15,7))\n",
    "ax1=plt.subplot(1,1,1)\n",
    "ax1.set_ylim(0.835,0.9)\n",
    "ax1.grid(axis='y',color='gray', linestyle='--', linewidth=0.3)\n",
    "\n",
    "ejeX = ['Decision Tree','RF','RF calibrado', 'XGB','XGB calibrado']\n",
    "ejeY = [td_acc,acc_rf, acc_rf_cal , acc_xgb, acc_XGB_cal]\n",
    "plt.bar(ejeX,ejeY)\n",
    "ax1.plot(ejeX,ejeY,marker='o', color= 'red')\n",
    "def addlabels(x,y,plotP):\n",
    "    for i in range(len(x)):\n",
    "        plotP.text(i,y[i],y[i])\n",
    "addlabels(ejeX,ejeY,plt)\n",
    "\n",
    "plt.title(\"Comparación de modelos - Accuracy\")\n",
    "plt.show()"
   ]
  },
  {
   "cell_type": "code",
   "execution_count": null,
   "metadata": {},
   "outputs": [],
   "source": []
  }
 ],
 "metadata": {
  "kernelspec": {
   "display_name": "Python 3",
   "language": "python",
   "name": "python3"
  },
  "language_info": {
   "codemirror_mode": {
    "name": "ipython",
    "version": 3
   },
   "file_extension": ".py",
   "mimetype": "text/x-python",
   "name": "python",
   "nbconvert_exporter": "python",
   "pygments_lexer": "ipython3",
   "version": "3.8.3"
  }
 },
 "nbformat": 4,
 "nbformat_minor": 4
}
